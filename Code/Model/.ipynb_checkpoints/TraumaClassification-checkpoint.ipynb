{
 "cells": [
  {
   "cell_type": "markdown",
   "id": "95d9e50b",
   "metadata": {},
   "source": [
    "### Binary Classification Models"
   ]
  },
  {
   "cell_type": "code",
   "execution_count": 172,
   "id": "8ece6e12",
   "metadata": {},
   "outputs": [],
   "source": [
    "# Import Statements\n",
    "\n",
    "import pandas as pd\n",
    "import numpy as np\n",
    "import sys\n",
    "import math\n",
    "\n",
    "from sklearn import metrics, svm\n",
    "from sklearn.model_selection import train_test_split, GridSearchCV, RepeatedStratifiedKFold, cross_val_score\n",
    "from sklearn.linear_model import LogisticRegression\n",
    "from sklearn.neighbors import KNeighborsClassifier, KNeighborsRegressor\n",
    "from sklearn.ensemble import BaggingRegressor, RandomForestRegressor\n",
    "\n",
    "import statsmodels.api as sm"
   ]
  },
  {
   "cell_type": "code",
   "execution_count": 47,
   "id": "d440d806",
   "metadata": {},
   "outputs": [],
   "source": [
    "# Box Folder Location containing data files\n",
    "\n",
    "apple_folder_loc = \"~/Library/CloudStorage/Box-Box/Capstone/Capstone/Data Science Capstone/Data/FeatureSelection\"\n",
    "windows_folder_loc = \"~/Box/Capstone/Capstone/Data Science Capstone/Data/FeatureSelection\"\n",
    "linux_folder_loc = \"\"\n",
    "\n",
    "folder_loc = apple_folder_loc if sys.platform.startswith(\"darwin\") else (windows_folder_loc if sys.platform.startswith(\"win\") else linux_folder_loc)"
   ]
  },
  {
   "cell_type": "code",
   "execution_count": 50,
   "id": "28fbd2ae",
   "metadata": {},
   "outputs": [
    {
     "data": {
      "text/html": [
       "<div>\n",
       "<style scoped>\n",
       "    .dataframe tbody tr th:only-of-type {\n",
       "        vertical-align: middle;\n",
       "    }\n",
       "\n",
       "    .dataframe tbody tr th {\n",
       "        vertical-align: top;\n",
       "    }\n",
       "\n",
       "    .dataframe thead th {\n",
       "        text-align: right;\n",
       "    }\n",
       "</style>\n",
       "<table border=\"1\" class=\"dataframe\">\n",
       "  <thead>\n",
       "    <tr style=\"text-align: right;\">\n",
       "      <th></th>\n",
       "      <th>STAB</th>\n",
       "      <th>O2</th>\n",
       "      <th>BVM</th>\n",
       "      <th>ETT</th>\n",
       "      <th>SUCK</th>\n",
       "      <th>NEEDLE</th>\n",
       "      <th>ChestTube</th>\n",
       "      <th>EmergentIntubation</th>\n",
       "      <th>ICP</th>\n",
       "      <th>Craniotomy</th>\n",
       "      <th>ActivationLevel</th>\n",
       "    </tr>\n",
       "  </thead>\n",
       "  <tbody>\n",
       "    <tr>\n",
       "      <th>0</th>\n",
       "      <td>0</td>\n",
       "      <td>0</td>\n",
       "      <td>0</td>\n",
       "      <td>0</td>\n",
       "      <td>0</td>\n",
       "      <td>0</td>\n",
       "      <td>0</td>\n",
       "      <td>0</td>\n",
       "      <td>0</td>\n",
       "      <td>0</td>\n",
       "      <td>0</td>\n",
       "    </tr>\n",
       "    <tr>\n",
       "      <th>1</th>\n",
       "      <td>0</td>\n",
       "      <td>0</td>\n",
       "      <td>0</td>\n",
       "      <td>0</td>\n",
       "      <td>0</td>\n",
       "      <td>0</td>\n",
       "      <td>0</td>\n",
       "      <td>0</td>\n",
       "      <td>0</td>\n",
       "      <td>0</td>\n",
       "      <td>0</td>\n",
       "    </tr>\n",
       "    <tr>\n",
       "      <th>2</th>\n",
       "      <td>1</td>\n",
       "      <td>1</td>\n",
       "      <td>0</td>\n",
       "      <td>0</td>\n",
       "      <td>0</td>\n",
       "      <td>0</td>\n",
       "      <td>0</td>\n",
       "      <td>0</td>\n",
       "      <td>0</td>\n",
       "      <td>0</td>\n",
       "      <td>0</td>\n",
       "    </tr>\n",
       "    <tr>\n",
       "      <th>3</th>\n",
       "      <td>0</td>\n",
       "      <td>1</td>\n",
       "      <td>0</td>\n",
       "      <td>0</td>\n",
       "      <td>0</td>\n",
       "      <td>0</td>\n",
       "      <td>0</td>\n",
       "      <td>0</td>\n",
       "      <td>0</td>\n",
       "      <td>0</td>\n",
       "      <td>1</td>\n",
       "    </tr>\n",
       "    <tr>\n",
       "      <th>4</th>\n",
       "      <td>0</td>\n",
       "      <td>0</td>\n",
       "      <td>0</td>\n",
       "      <td>0</td>\n",
       "      <td>0</td>\n",
       "      <td>0</td>\n",
       "      <td>0</td>\n",
       "      <td>0</td>\n",
       "      <td>0</td>\n",
       "      <td>0</td>\n",
       "      <td>0</td>\n",
       "    </tr>\n",
       "    <tr>\n",
       "      <th>5</th>\n",
       "      <td>1</td>\n",
       "      <td>0</td>\n",
       "      <td>0</td>\n",
       "      <td>0</td>\n",
       "      <td>0</td>\n",
       "      <td>0</td>\n",
       "      <td>0</td>\n",
       "      <td>0</td>\n",
       "      <td>0</td>\n",
       "      <td>0</td>\n",
       "      <td>0</td>\n",
       "    </tr>\n",
       "    <tr>\n",
       "      <th>6</th>\n",
       "      <td>0</td>\n",
       "      <td>1</td>\n",
       "      <td>0</td>\n",
       "      <td>0</td>\n",
       "      <td>0</td>\n",
       "      <td>0</td>\n",
       "      <td>0</td>\n",
       "      <td>0</td>\n",
       "      <td>0</td>\n",
       "      <td>0</td>\n",
       "      <td>1</td>\n",
       "    </tr>\n",
       "    <tr>\n",
       "      <th>7</th>\n",
       "      <td>0</td>\n",
       "      <td>0</td>\n",
       "      <td>0</td>\n",
       "      <td>0</td>\n",
       "      <td>1</td>\n",
       "      <td>0</td>\n",
       "      <td>0</td>\n",
       "      <td>0</td>\n",
       "      <td>0</td>\n",
       "      <td>0</td>\n",
       "      <td>1</td>\n",
       "    </tr>\n",
       "    <tr>\n",
       "      <th>8</th>\n",
       "      <td>0</td>\n",
       "      <td>0</td>\n",
       "      <td>1</td>\n",
       "      <td>0</td>\n",
       "      <td>1</td>\n",
       "      <td>0</td>\n",
       "      <td>0</td>\n",
       "      <td>1</td>\n",
       "      <td>0</td>\n",
       "      <td>0</td>\n",
       "      <td>1</td>\n",
       "    </tr>\n",
       "    <tr>\n",
       "      <th>9</th>\n",
       "      <td>0</td>\n",
       "      <td>0</td>\n",
       "      <td>0</td>\n",
       "      <td>0</td>\n",
       "      <td>0</td>\n",
       "      <td>0</td>\n",
       "      <td>0</td>\n",
       "      <td>0</td>\n",
       "      <td>0</td>\n",
       "      <td>0</td>\n",
       "      <td>0</td>\n",
       "    </tr>\n",
       "  </tbody>\n",
       "</table>\n",
       "</div>"
      ],
      "text/plain": [
       "   STAB  O2  BVM  ETT  SUCK  NEEDLE  ChestTube  EmergentIntubation  ICP  \\\n",
       "0     0   0    0    0     0       0          0                   0    0   \n",
       "1     0   0    0    0     0       0          0                   0    0   \n",
       "2     1   1    0    0     0       0          0                   0    0   \n",
       "3     0   1    0    0     0       0          0                   0    0   \n",
       "4     0   0    0    0     0       0          0                   0    0   \n",
       "5     1   0    0    0     0       0          0                   0    0   \n",
       "6     0   1    0    0     0       0          0                   0    0   \n",
       "7     0   0    0    0     1       0          0                   0    0   \n",
       "8     0   0    1    0     1       0          0                   1    0   \n",
       "9     0   0    0    0     0       0          0                   0    0   \n",
       "\n",
       "   Craniotomy  ActivationLevel  \n",
       "0           0                0  \n",
       "1           0                0  \n",
       "2           0                0  \n",
       "3           0                1  \n",
       "4           0                0  \n",
       "5           0                0  \n",
       "6           0                1  \n",
       "7           0                1  \n",
       "8           0                1  \n",
       "9           0                0  "
      ]
     },
     "execution_count": 50,
     "metadata": {},
     "output_type": "execute_result"
    }
   ],
   "source": [
    "# Fetch Data\n",
    "\n",
    "# file_name = \"InputDataImputed_MICE_WithRace.xlsx\"\n",
    "file_name = \"chi10.xlsx\"\n",
    "\n",
    "data = pd.read_excel(\"{}/{}\".format(folder_loc, file_name))\n",
    "data.head(10)"
   ]
  },
  {
   "cell_type": "code",
   "execution_count": 52,
   "id": "878309c5",
   "metadata": {},
   "outputs": [],
   "source": [
    "# Initializations\n",
    "\n",
    "random_state = 265"
   ]
  },
  {
   "cell_type": "code",
   "execution_count": 53,
   "id": "05806040",
   "metadata": {},
   "outputs": [],
   "source": [
    "# Train-Test Split\n",
    "\n",
    "data_features, data_labels = data.iloc[:,:-1], data.ActivationLevel\n",
    "X_train, X_test, y_train, y_test = train_test_split(data_features, data_labels, test_size=0.30, random_state=random_state)"
   ]
  },
  {
   "cell_type": "markdown",
   "id": "1683e67d",
   "metadata": {},
   "source": [
    "### Logistic Regression"
   ]
  },
  {
   "cell_type": "code",
   "execution_count": 58,
   "id": "f067435e",
   "metadata": {},
   "outputs": [],
   "source": [
    "# instantiate the model (using the default parameters)\n",
    "logreg = LogisticRegression(random_state=random_state)\n",
    "\n",
    "# fit the model with data\n",
    "logreg.fit(X_train, y_train)\n",
    "\n",
    "y_pred = logreg.predict(X_test)"
   ]
  },
  {
   "cell_type": "code",
   "execution_count": 59,
   "id": "f8301c59",
   "metadata": {},
   "outputs": [
    {
     "name": "stdout",
     "output_type": "stream",
     "text": [
      "Accuracy of logistic regression classifier on test set: 0.80\n"
     ]
    }
   ],
   "source": [
    "print('Accuracy of logistic regression classifier on test set: {:.2f}'.format(logreg.score(X_test, y_test)))"
   ]
  },
  {
   "cell_type": "code",
   "execution_count": 57,
   "id": "61eff3d9",
   "metadata": {},
   "outputs": [
    {
     "name": "stdout",
     "output_type": "stream",
     "text": [
      "Optimization terminated successfully.\n",
      "         Current function value: 0.636941\n",
      "         Iterations 7\n",
      "                          Results: Logit\n",
      "===================================================================\n",
      "Model:               Logit             Pseudo R-squared:  -0.219   \n",
      "Dependent Variable:  ActivationLevel   AIC:               6565.2032\n",
      "Date:                2023-02-27 07:38  BIC:               6630.6474\n",
      "No. Observations:    5138              Log-Likelihood:    -3272.6  \n",
      "Df Model:            9                 LL-Null:           -2683.8  \n",
      "Df Residuals:        5128              LLR p-value:       1.0000   \n",
      "Converged:           1.0000            Scale:             1.0000   \n",
      "No. Iterations:      7.0000                                        \n",
      "-------------------------------------------------------------------\n",
      "                    Coef.  Std.Err.    z     P>|z|   [0.025  0.975]\n",
      "-------------------------------------------------------------------\n",
      "STAB               -2.6611   0.1812 -14.6832 0.0000 -3.0164 -2.3059\n",
      "O2                 -0.6587   0.0709  -9.2957 0.0000 -0.7976 -0.5198\n",
      "BVM                 0.0387   0.1986   0.1947 0.8457 -0.3506  0.4279\n",
      "ETT                 0.0795   0.2095   0.3795 0.7044 -0.3311  0.4900\n",
      "SUCK                0.2715   0.1966   1.3810 0.1673 -0.1138  0.6569\n",
      "NEEDLE              0.8448   0.3053   2.7673 0.0057  0.2464  1.4431\n",
      "ChestTube           0.3251   0.0951   3.4168 0.0006  0.1386  0.5116\n",
      "EmergentIntubation  0.2984   0.1220   2.4462 0.0144  0.0593  0.5375\n",
      "ICP                 1.1364   0.3337   3.4053 0.0007  0.4823  1.7905\n",
      "Craniotomy          1.4482   0.5075   2.8537 0.0043  0.4535  2.4428\n",
      "===================================================================\n",
      "\n"
     ]
    }
   ],
   "source": [
    "# To get the summary report\n",
    "\n",
    "logit_model = sm.Logit(data_labels, data_features)\n",
    "result = logit_model.fit()\n",
    "print(result.summary2())"
   ]
  },
  {
   "cell_type": "markdown",
   "id": "5c20f0b8",
   "metadata": {},
   "source": [
    "### SVM"
   ]
  },
  {
   "cell_type": "code",
   "execution_count": 93,
   "id": "62156f0e",
   "metadata": {},
   "outputs": [
    {
     "name": "stdout",
     "output_type": "stream",
     "text": [
      "\n",
      "w =  [[-2.48573266e-03  6.22745394e-04 -8.38742238e-06  2.58835919e-04\n",
      "   5.99268611e-01  1.39923689e+00  1.81929097e-03  6.00131979e-01\n",
      "   1.40027433e+00  1.39988937e+00]]\n",
      "\n",
      "b =  [-1.00022917]\n",
      "\n",
      "Indices of support vectors =  [   1   10   17 ... 3586 3589 3590]\n",
      "\n",
      "Support vectors =  [[0. 0. 0. ... 0. 0. 0.]\n",
      " [0. 1. 0. ... 0. 0. 0.]\n",
      " [0. 0. 0. ... 1. 0. 0.]\n",
      " ...\n",
      " [0. 1. 0. ... 1. 0. 0.]\n",
      " [0. 0. 0. ... 0. 0. 0.]\n",
      " [0. 1. 0. ... 1. 0. 0.]]\n",
      "\n",
      "Number of support vectors for each class =  [753 753]\n",
      "\n",
      "Coefficients of the support vector in the decision function =  [[1. 1. 1. ... 1. 1. 1.]]\n",
      "\n",
      "R-square:  -5.102598566308242\n",
      "\n",
      "Adjusted R-square:  -0.22327905731224895\n",
      "\n",
      "-------\n",
      "\n",
      "Accuracy:0.7937743190661478\n",
      "\n",
      "-------\n"
     ]
    }
   ],
   "source": [
    "#Create a svm Classifier\n",
    "clf = svm.SVC(kernel='linear') # Linear Kernel\n",
    "\n",
    "#Train the model using the training sets\n",
    "clf.fit(X_train, y_train)\n",
    "\n",
    "print('\\nw = ',clf.coef_)\n",
    "print('\\nb = ',clf.intercept_)\n",
    "print('\\nIndices of support vectors = ', clf.support_)\n",
    "print('\\nSupport vectors = ', clf.support_vectors_)\n",
    "print('\\nNumber of support vectors for each class = ', clf.n_support_)\n",
    "print('\\nCoefficients of the support vector in the decision function = ', np.abs(clf.dual_coef_))\n",
    "\n",
    "#Predict the response for test dataset\n",
    "y_pred = clf.predict(X_test)\n",
    "\n",
    "print('\\nR-square: ', metrics.r2_score(y_pred, y_test))\n",
    "print('\\nAdjusted R-square: ', 1 - (1 - metrics.r2_score(y_test, y_pred)) * ((len(X_test) - 1) / (len(X_test) - X_test.shape[1] - 1)))\n",
    "\n",
    "# Model Accuracy: how often is the classifier correct?\n",
    "print(\"\\n-------\\n\\nAccuracy:{}\\n\\n-------\".format(metrics.accuracy_score(y_test, y_pred)))"
   ]
  },
  {
   "cell_type": "code",
   "execution_count": 168,
   "id": "d2617db6",
   "metadata": {},
   "outputs": [
    {
     "name": "stdout",
     "output_type": "stream",
     "text": [
      "Accuracy: 0.8073929961089494\n"
     ]
    }
   ],
   "source": [
    "#Create a svm Classifier\n",
    "clf = svm.SVC(kernel='poly', degree=2) # Polynomial Kernel\n",
    "\n",
    "#Train the model using the training sets\n",
    "clf.fit(X_train, y_train)\n",
    "\n",
    "#Predict the response for test dataset\n",
    "y_pred = clf.predict(X_test)\n",
    "\n",
    "# Model Accuracy: how often is the classifier correct?\n",
    "print(\"Accuracy:\",metrics.accuracy_score(y_test, y_pred))"
   ]
  },
  {
   "cell_type": "code",
   "execution_count": 71,
   "id": "181de2ba",
   "metadata": {},
   "outputs": [
    {
     "name": "stdout",
     "output_type": "stream",
     "text": [
      "Accuracy: 0.8022049286640727\n"
     ]
    }
   ],
   "source": [
    "#Create a svm Classifier\n",
    "clf = svm.SVC(kernel='rbf') # RBF Kernel\n",
    "\n",
    "#Train the model using the training sets\n",
    "clf.fit(X_train, y_train)\n",
    "\n",
    "#Predict the response for test dataset\n",
    "y_pred = clf.predict(X_test)\n",
    "\n",
    "# Model Accuracy: how often is the classifier correct?\n",
    "print(\"Accuracy:\",metrics.accuracy_score(y_test, y_pred))"
   ]
  },
  {
   "cell_type": "code",
   "execution_count": 169,
   "id": "bc564a67",
   "metadata": {},
   "outputs": [
    {
     "name": "stdout",
     "output_type": "stream",
     "text": [
      "{'C': 1, 'kernel': 'poly'}\n",
      "Accuracy: 0.8035019455252919\n",
      "\n",
      "R-square:  -1.941469771658451\n",
      "\n",
      "Adjusted R-square:  -0.16557721498619982\n"
     ]
    }
   ],
   "source": [
    "# Grid search\n",
    "\n",
    "parameters= {'kernel': ('linear', 'rbf', 'poly'),\n",
    "             'C': [1, 10, 100]}\n",
    "gridsearch = GridSearchCV(svm.SVC(), parameters)\n",
    "gridsearch.fit(X_train, y_train)\n",
    "\n",
    "print(gridsearch.best_params_)\n",
    "\n",
    "y_pred = gridsearch.predict(X_test)\n",
    "y_pred = np.round(y_pred).astype(int)\n",
    "\n",
    "# Model Accuracy: how often is the classifier correct?\n",
    "print(\"Accuracy:\",metrics.accuracy_score(y_test, y_pred))\n",
    "\n",
    "print('\\nR-square: ', metrics.r2_score(y_pred, y_test))\n",
    "print('\\nAdjusted R-square: ', 1 - (1 - metrics.r2_score(y_test, y_pred)) * ((len(X_test) - 1) / (len(X_test) - X_test.shape[1] - 1)))"
   ]
  },
  {
   "cell_type": "markdown",
   "id": "0a71be22",
   "metadata": {},
   "source": [
    "### KNN"
   ]
  },
  {
   "cell_type": "markdown",
   "id": "19809189",
   "metadata": {},
   "source": [
    "#### KNN Regressor"
   ]
  },
  {
   "cell_type": "code",
   "execution_count": 144,
   "id": "f7a6cf38",
   "metadata": {},
   "outputs": [
    {
     "name": "stdout",
     "output_type": "stream",
     "text": [
      "Accuracy: 0.7996108949416343\n",
      "\n",
      "R-square:  -2.4661768450150934\n",
      "\n",
      "Adjusted R-square:  -0.18865795191661938\n"
     ]
    }
   ],
   "source": [
    "# K Neighbors Regressor\n",
    "\n",
    "knn_model = KNeighborsRegressor(n_neighbors=45)\n",
    "knn_model.fit(X_train, y_train)\n",
    "\n",
    "y_pred = knn_model.predict(X_test)\n",
    "y_pred = np.round(y_pred).astype(int)\n",
    "\n",
    "# Model Accuracy: how often is the classifier correct?\n",
    "print(\"Accuracy:\",metrics.accuracy_score(y_test, y_pred))\n",
    "\n",
    "print('\\nR-square: ', metrics.r2_score(y_pred, y_test))\n",
    "print('\\nAdjusted R-square: ', 1 - (1 - metrics.r2_score(y_test, y_pred)) * ((len(X_test) - 1) / (len(X_test) - X_test.shape[1] - 1)))"
   ]
  },
  {
   "cell_type": "code",
   "execution_count": 145,
   "id": "f30b30ad",
   "metadata": {},
   "outputs": [
    {
     "name": "stdout",
     "output_type": "stream",
     "text": [
      "{'n_neighbors': 45}\n",
      "Accuracy: 0.7996108949416343\n",
      "\n",
      "R-square:  -2.4661768450150934\n",
      "\n",
      "Adjusted R-square:  -0.18865795191661938\n"
     ]
    }
   ],
   "source": [
    "# Grid search for best number of neighbors\n",
    "\n",
    "parameters = {\"n_neighbors\": range(1, 50)}\n",
    "gridsearch = GridSearchCV(KNeighborsRegressor(), parameters)\n",
    "gridsearch.fit(X_train, y_train)\n",
    "\n",
    "print(gridsearch.best_params_)\n",
    "\n",
    "y_pred = gridsearch.predict(X_test)\n",
    "y_pred = np.round(y_pred).astype(int)\n",
    "\n",
    "# Model Accuracy: how often is the classifier correct?\n",
    "print(\"Accuracy:\",metrics.accuracy_score(y_test, y_pred))\n",
    "\n",
    "print('\\nR-square: ', metrics.r2_score(y_pred, y_test))\n",
    "print('\\nAdjusted R-square: ', 1 - (1 - metrics.r2_score(y_test, y_pred)) * ((len(X_test) - 1) / (len(X_test) - X_test.shape[1] - 1)))"
   ]
  },
  {
   "cell_type": "code",
   "execution_count": 146,
   "id": "fd4b0b8e",
   "metadata": {},
   "outputs": [
    {
     "name": "stdout",
     "output_type": "stream",
     "text": [
      "{'n_neighbors': 45, 'weights': 'uniform'}\n",
      "Accuracy: 0.7996108949416343\n",
      "\n",
      "R-square:  -2.4661768450150934\n",
      "\n",
      "Adjusted R-square:  -0.18865795191661938\n"
     ]
    }
   ],
   "source": [
    "# Grid Search for best weight parameter\n",
    "\n",
    "parameters = {\n",
    "    \"n_neighbors\": range(1, 50),\n",
    "    \"weights\": [\"uniform\", \"distance\"],\n",
    "}\n",
    "gridsearch = GridSearchCV(KNeighborsRegressor(), parameters)\n",
    "gridsearch.fit(X_train, y_train)\n",
    "\n",
    "print(gridsearch.best_params_)\n",
    "\n",
    "y_pred = gridsearch.predict(X_test)\n",
    "y_pred = np.round(y_pred).astype(int)\n",
    "\n",
    "# Model Accuracy: how often is the classifier correct?\n",
    "print(\"Accuracy:\",metrics.accuracy_score(y_test, y_pred))\n",
    "\n",
    "print('\\nR-square: ', metrics.r2_score(y_pred, y_test))\n",
    "print('\\nAdjusted R-square: ', 1 - (1 - metrics.r2_score(y_test, y_pred)) * ((len(X_test) - 1) / (len(X_test) - X_test.shape[1] - 1)))"
   ]
  },
  {
   "cell_type": "code",
   "execution_count": 147,
   "id": "439d4254",
   "metadata": {},
   "outputs": [
    {
     "name": "stdout",
     "output_type": "stream",
     "text": [
      "Accuracy: 0.8041504539559015\n",
      "\n",
      "R-square:  -3.3998866213151935\n",
      "\n",
      "Adjusted R-square:  -0.16173042549779626\n"
     ]
    }
   ],
   "source": [
    "# Bagging Regressor\n",
    "\n",
    "best_k = gridsearch.best_params_[\"n_neighbors\"]\n",
    "best_weights = gridsearch.best_params_[\"weights\"]\n",
    "bagged_knn = KNeighborsRegressor(\n",
    "    n_neighbors=best_k, weights=best_weights\n",
    ")\n",
    "\n",
    "bagging_model = BaggingRegressor(bagged_knn, n_estimators=100)\n",
    "bagging_model.fit(X_train, y_train)\n",
    "\n",
    "test_preds_grid = bagging_model.predict(X_test)\n",
    "y_pred = np.round(test_preds_grid).astype(int)\n",
    "\n",
    "# Model Accuracy: how often is the classifier correct?\n",
    "print(\"Accuracy:\",metrics.accuracy_score(y_test, y_pred))\n",
    "\n",
    "print('\\nR-square: ', metrics.r2_score(y_pred, y_test))\n",
    "print('\\nAdjusted R-square: ', 1 - (1 - metrics.r2_score(y_test, y_pred)) * ((len(X_test) - 1) / (len(X_test) - X_test.shape[1] - 1)))"
   ]
  },
  {
   "cell_type": "markdown",
   "id": "bdaf8ecd",
   "metadata": {},
   "source": [
    "#### KNN Classifier"
   ]
  },
  {
   "cell_type": "code",
   "execution_count": 153,
   "id": "e0204134",
   "metadata": {},
   "outputs": [
    {
     "name": "stdout",
     "output_type": "stream",
     "text": [
      "10 Features used during classification: ['STAB' 'O2' 'BVM' 'ETT' 'SUCK' 'NEEDLE' 'ChestTube' 'EmergentIntubation'\n",
      " 'ICP' 'Craniotomy']\n",
      "\n",
      "Accuracy: 0.7931258106355382\n",
      "\n",
      "R-square:  -4.2791783380018655\n",
      "\n",
      "Adjusted R-square:  -0.2271258468006525\n"
     ]
    }
   ],
   "source": [
    "# K Neighbors Classifier\n",
    "\n",
    "classifier = KNeighborsClassifier(n_neighbors = 2)\n",
    "classifier.fit(X_train, y_train)\n",
    "\n",
    "print(\"{} Features used during classification: {}\".format(classifier.n_features_in_, classifier.feature_names_in_))\n",
    "\n",
    "# Predicting the Test set results\n",
    "y_pred = classifier.predict(X_test)\n",
    "\n",
    "# Model Accuracy: how often is the classifier correct?\n",
    "print(\"\\nAccuracy:\",metrics.accuracy_score(y_test, y_pred))\n",
    "\n",
    "print('\\nR-square: ', metrics.r2_score(y_pred, y_test))\n",
    "print('\\nAdjusted R-square: ', 1 - (1 - metrics.r2_score(y_test, y_pred)) * ((len(X_test) - 1) / (len(X_test) - X_test.shape[1] - 1)))"
   ]
  },
  {
   "cell_type": "code",
   "execution_count": 154,
   "id": "67de822f",
   "metadata": {},
   "outputs": [
    {
     "name": "stdout",
     "output_type": "stream",
     "text": [
      "10 Features used during classification: ['STAB' 'O2' 'BVM' 'ETT' 'SUCK' 'NEEDLE' 'ChestTube' 'EmergentIntubation'\n",
      " 'ICP' 'Craniotomy']\n",
      "{'n_neighbors': 3, 'weights': 'uniform'}\n",
      "Accuracy: 0.7937743190661478\n",
      "\n",
      "R-square:  -3.1925102599179205\n",
      "\n",
      "Adjusted R-square:  -0.22327905731224895\n"
     ]
    }
   ],
   "source": [
    "# Grid search for best number of neighbors and weights\n",
    "\n",
    "parameters = {\n",
    "    \"n_neighbors\": range(1, 50),\n",
    "    \"weights\": [\"uniform\", \"distance\"],\n",
    "}\n",
    "gridsearch = GridSearchCV(KNeighborsClassifier(), parameters)\n",
    "gridsearch.fit(X_train, y_train)\n",
    "\n",
    "print(\"{} Features used during classification: {}\".format(gridsearch.n_features_in_, gridsearch.feature_names_in_))\n",
    "\n",
    "print(gridsearch.best_params_)\n",
    "\n",
    "y_pred = gridsearch.predict(X_test)\n",
    "y_pred = np.round(y_pred).astype(int)\n",
    "\n",
    "# Model Accuracy: how often is the classifier correct?\n",
    "print(\"\\nAccuracy:\",metrics.accuracy_score(y_test, y_pred))\n",
    "\n",
    "print('\\nR-square: ', metrics.r2_score(y_pred, y_test))\n",
    "print('\\nAdjusted R-square: ', 1 - (1 - metrics.r2_score(y_test, y_pred)) * ((len(X_test) - 1) / (len(X_test) - X_test.shape[1] - 1)))"
   ]
  },
  {
   "cell_type": "code",
   "execution_count": 155,
   "id": "cbcba095",
   "metadata": {},
   "outputs": [
    {
     "name": "stdout",
     "output_type": "stream",
     "text": [
      "10 Features used during classification: ['STAB' 'O2' 'BVM' 'ETT' 'SUCK' 'NEEDLE' 'ChestTube' 'EmergentIntubation'\n",
      " 'ICP' 'Craniotomy']\n",
      "\n",
      "Accuracy: 0.8015564202334631\n",
      "\n",
      "R-square:  -2.0998843748357587\n",
      "\n",
      "Adjusted R-square:  -0.17711758345140938\n"
     ]
    }
   ],
   "source": [
    "# Bagging Classifier\n",
    "\n",
    "best_k = gridsearch.best_params_[\"n_neighbors\"]\n",
    "best_weights = gridsearch.best_params_[\"weights\"]\n",
    "bagged_knn = KNeighborsClassifier(\n",
    "    n_neighbors=best_k, weights=best_weights\n",
    ")\n",
    "\n",
    "bagging_model = BaggingRegressor(bagged_knn, n_estimators=100)\n",
    "bagging_model.fit(X_train, y_train)\n",
    "\n",
    "print(\"{} Features used during classification: {}\".format(bagging_model.n_features_in_, bagging_model.feature_names_in_))\n",
    "\n",
    "test_preds_grid = bagging_model.predict(X_test)\n",
    "y_pred = np.round(test_preds_grid).astype(int)\n",
    "\n",
    "# Model Accuracy: how often is the classifier correct?\n",
    "print(\"\\nAccuracy:\",metrics.accuracy_score(y_test, y_pred))\n",
    "\n",
    "print('\\nR-square: ', metrics.r2_score(y_pred, y_test))\n",
    "print('\\nAdjusted R-square: ', 1 - (1 - metrics.r2_score(y_test, y_pred)) * ((len(X_test) - 1) / (len(X_test) - X_test.shape[1] - 1)))"
   ]
  },
  {
   "cell_type": "markdown",
   "id": "ca85b0ab",
   "metadata": {},
   "source": [
    "### RandomForest"
   ]
  },
  {
   "cell_type": "code",
   "execution_count": 160,
   "id": "0bbf8dbf",
   "metadata": {},
   "outputs": [
    {
     "name": "stdout",
     "output_type": "stream",
     "text": [
      "\n",
      "Accuracy: 0.8002594033722439\n",
      "\n",
      "R-square:  -1.9653846153846155\n",
      "\n",
      "Adjusted R-square:  -0.18481116242821627\n"
     ]
    }
   ],
   "source": [
    "# Instantiate model with 1000 decision trees\n",
    "rf = RandomForestRegressor(n_estimators = 1000, random_state = random_state)\n",
    "\n",
    "# Train the model on training data\n",
    "rf.fit(X_train, y_train)\n",
    "\n",
    "# Use the forest's predict method on the test data\n",
    "predictions = rf.predict(X_test)\n",
    "y_pred = np.round(predictions).astype(int)\n",
    "\n",
    "# Model Accuracy: how often is the classifier correct?\n",
    "print(\"\\nAccuracy:\",metrics.accuracy_score(y_test, y_pred))\n",
    "\n",
    "print('\\nR-square: ', metrics.r2_score(y_pred, y_test))\n",
    "print('\\nAdjusted R-square: ', 1 - (1 - metrics.r2_score(y_test, y_pred)) * ((len(X_test) - 1) / (len(X_test) - X_test.shape[1] - 1)))"
   ]
  },
  {
   "cell_type": "code",
   "execution_count": 162,
   "id": "2b831d12",
   "metadata": {},
   "outputs": [
    {
     "name": "stdout",
     "output_type": "stream",
     "text": [
      "Variable: ChestTube            Importance: 0.29\n",
      "Variable: EmergentIntubation   Importance: 0.21\n",
      "Variable: O2                   Importance: 0.11\n",
      "Variable: STAB                 Importance: 0.1\n",
      "Variable: BVM                  Importance: 0.07\n",
      "Variable: SUCK                 Importance: 0.07\n",
      "Variable: ETT                  Importance: 0.05\n",
      "Variable: ICP                  Importance: 0.05\n",
      "Variable: NEEDLE               Importance: 0.03\n",
      "Variable: Craniotomy           Importance: 0.03\n"
     ]
    }
   ],
   "source": [
    "# Get numerical feature importances\n",
    "importances = list(rf.feature_importances_)\n",
    "\n",
    "# List of tuples with variable and importance\n",
    "feature_importances = [(feature, round(importance, 2)) for feature, importance in zip(data_features.columns, importances)]\n",
    "\n",
    "# Sort the feature importances by most important first\n",
    "feature_importances = sorted(feature_importances, key = lambda x: x[1], reverse = True)\n",
    "\n",
    "# Print out the feature and importances \n",
    "[print('Variable: {:20} Importance: {}'.format(*pair)) for pair in feature_importances];"
   ]
  },
  {
   "cell_type": "code",
   "execution_count": 173,
   "id": "e860971e",
   "metadata": {},
   "outputs": [
    {
     "name": "stdout",
     "output_type": "stream",
     "text": [
      "Accuracy: 0.803 (0.015)\n"
     ]
    }
   ],
   "source": [
    "# Define the model\n",
    "model = RandomForestClassifier()\n",
    "\n",
    "# Evaluate the model\n",
    "cv = RepeatedStratifiedKFold(n_splits=10, n_repeats=3, random_state=random_state)\n",
    "n_scores = cross_val_score(model, data_features, data_labels, scoring='accuracy', cv=cv, n_jobs=-1, error_score='raise')\n",
    "\n",
    "# Report performance\n",
    "print('Accuracy: %.3f (%.3f)' % (np.mean(n_scores), np.std(n_scores)))"
   ]
  },
  {
   "cell_type": "code",
   "execution_count": 176,
   "id": "eaeb0010",
   "metadata": {},
   "outputs": [
    {
     "name": "stdout",
     "output_type": "stream",
     "text": [
      ">0.1 0.804 (0.012)\n",
      ">0.2 0.804 (0.013)\n",
      ">0.3 0.803 (0.013)\n",
      ">0.4 0.803 (0.013)\n",
      ">0.5 0.803 (0.013)\n",
      ">0.6 0.804 (0.013)\n",
      ">0.7 0.803 (0.013)\n",
      ">0.8 0.803 (0.013)\n",
      ">0.9 0.802 (0.013)\n",
      ">1.0 0.804 (0.013)\n"
     ]
    }
   ],
   "source": [
    "# Exploring number of Samples\n",
    "\n",
    "# get a list of models to evaluate\n",
    "def get_models():\n",
    "    models = dict()\n",
    "    # explore ratios from 10% to 100% in 10% increments\n",
    "    for i in np.arange(0.1, 1.1, 0.1):\n",
    "        key = '%.1f' % i\n",
    "        # set max_samples=None to use 100%\n",
    "        if i == 1.0:\n",
    "            i = None\n",
    "        models[key] = RandomForestClassifier(max_samples=i)\n",
    "    return models\n",
    " \n",
    "# evaluate a given model using cross-validation\n",
    "def evaluate_model(model, X, y):\n",
    "    # define the evaluation procedure\n",
    "    cv = RepeatedStratifiedKFold(n_splits=10, n_repeats=3, random_state=1)\n",
    "    # evaluate the model and collect the results\n",
    "    scores = cross_val_score(model, X, y, scoring='accuracy', cv=cv, n_jobs=-1)\n",
    "    return scores\n",
    " \n",
    "# get the models to evaluate\n",
    "models = get_models()\n",
    "# evaluate the models and store results\n",
    "results, names = list(), list()\n",
    "for name, model in models.items():\n",
    "    # evaluate the model\n",
    "    scores = evaluate_model(model, data_features, data_labels)\n",
    "    # store the results\n",
    "    results.append(scores)\n",
    "    names.append(name)\n",
    "    # summarize the performance along the way\n",
    "    print('>%s %.3f (%.3f)' % (name, np.mean(scores), np.std(scores)))"
   ]
  },
  {
   "cell_type": "code",
   "execution_count": null,
   "id": "bd918c21",
   "metadata": {},
   "outputs": [],
   "source": []
  },
  {
   "cell_type": "markdown",
   "id": "f74c6147",
   "metadata": {},
   "source": [
    "### Naive-Bayes"
   ]
  },
  {
   "cell_type": "code",
   "execution_count": null,
   "id": "87d9a15f",
   "metadata": {},
   "outputs": [],
   "source": []
  }
 ],
 "metadata": {
  "kernelspec": {
   "display_name": "Python 3 (ipykernel)",
   "language": "python",
   "name": "python3"
  },
  "language_info": {
   "codemirror_mode": {
    "name": "ipython",
    "version": 3
   },
   "file_extension": ".py",
   "mimetype": "text/x-python",
   "name": "python",
   "nbconvert_exporter": "python",
   "pygments_lexer": "ipython3",
   "version": "3.9.12"
  }
 },
 "nbformat": 4,
 "nbformat_minor": 5
}
